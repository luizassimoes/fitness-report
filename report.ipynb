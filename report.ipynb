{
 "cells": [
  {
   "cell_type": "code",
   "execution_count": null,
   "metadata": {},
   "outputs": [],
   "source": [
    "import re\n",
    "import numpy as np\n",
    "import pandas as pd\n",
    "from datetime import date"
   ]
  },
  {
   "cell_type": "code",
   "execution_count": null,
   "metadata": {},
   "outputs": [],
   "source": [
    "def spaced_str(var):\n",
    "  \"\"\"Inserts spaces before capitalized letters.\n",
    "\n",
    "  Args:\n",
    "    word: The word to be modified.\n",
    "\n",
    "  Returns:\n",
    "    str: The string with spaces.\n",
    "  \"\"\"\n",
    "\n",
    "  if isinstance(var, str):\n",
    "    word = var\n",
    "    idx_caps = [m.start() for m in re.finditer(r'[A-Z]', word)]\n",
    "\n",
    "    # Inserts spaces before captalized letters except for the first one\n",
    "    for i, idx in enumerate(idx_caps[1:]):\n",
    "      word = word[:idx+i] + ' ' + word[idx+i:]\n",
    "\n",
    "    return word\n",
    "  return np.nan"
   ]
  },
  {
   "cell_type": "code",
   "execution_count": null,
   "metadata": {},
   "outputs": [],
   "source": [
    "# df = pd.read_xml('./export/apple_health_export/export.xml')\n",
    "# df_bkp = df.copy()"
   ]
  },
  {
   "cell_type": "code",
   "execution_count": null,
   "metadata": {},
   "outputs": [],
   "source": [
    "df = df_bkp.copy()"
   ]
  },
  {
   "cell_type": "markdown",
   "metadata": {},
   "source": [
    "Dropping empty columns:"
   ]
  },
  {
   "cell_type": "code",
   "execution_count": null,
   "metadata": {},
   "outputs": [],
   "source": [
    "cols_to_drop = df.columns[df.isnull().all()]\n",
    "df = df.drop(columns=cols_to_drop)"
   ]
  },
  {
   "cell_type": "markdown",
   "metadata": {},
   "source": [
    "Getting data from one-valued columns:"
   ]
  },
  {
   "cell_type": "code",
   "execution_count": null,
   "metadata": {},
   "outputs": [],
   "source": [
    "bday  = df.iloc[:, 1].dropna()\n",
    "bday  = pd.to_datetime(bday.iloc[0])\n",
    "\n",
    "today = date.today()\n",
    "age   = today.year - bday.year - ((today.month, today.day) < (bday.month, bday.day))"
   ]
  },
  {
   "cell_type": "code",
   "execution_count": null,
   "metadata": {},
   "outputs": [],
   "source": [
    "bio_sex = df.iloc[:, 2].dropna()\n",
    "bio_sex = bio_sex.iloc[0].split('Sex')[1]"
   ]
  },
  {
   "cell_type": "markdown",
   "metadata": {},
   "source": [
    "Dropping one-valued columns:"
   ]
  },
  {
   "cell_type": "code",
   "execution_count": null,
   "metadata": {},
   "outputs": [],
   "source": [
    "df_nan_1   = df.count()\n",
    "idxs_nan_1 = df_nan_1[df_nan_1 == 1].index\n",
    "cols_nan_1 = df_nan_1[idxs_nan_1].index.tolist()\n",
    "\n",
    "df = df.drop(columns=cols_nan_1)"
   ]
  },
  {
   "cell_type": "markdown",
   "metadata": {},
   "source": [
    "Analyzing and dropping unnecessary columns:"
   ]
  },
  {
   "cell_type": "code",
   "execution_count": null,
   "metadata": {},
   "outputs": [],
   "source": [
    "df = df.drop(columns=['sourceName', 'sourceVersion', 'device'])"
   ]
  },
  {
   "cell_type": "markdown",
   "metadata": {},
   "source": [
    "Removing the two first empty rows:"
   ]
  },
  {
   "cell_type": "code",
   "execution_count": null,
   "metadata": {},
   "outputs": [],
   "source": [
    "df = df.iloc[2:, :].reset_index(drop=True)"
   ]
  },
  {
   "cell_type": "code",
   "execution_count": null,
   "metadata": {},
   "outputs": [],
   "source": [
    "df['type'] = df['type'].str.split('Identifier').where(df['type'].notnull(), np.nan).str[1]\n",
    "df['workoutActivityType'] = df['workoutActivityType'].str.split('ActivityType').where(df['workoutActivityType'].notnull(), np.nan).str[1]"
   ]
  },
  {
   "cell_type": "code",
   "execution_count": null,
   "metadata": {},
   "outputs": [],
   "source": [
    "df['workoutActivityType'] = df['workoutActivityType'].apply(spaced_str)"
   ]
  },
  {
   "cell_type": "markdown",
   "metadata": {},
   "source": [
    "Creating important columns:"
   ]
  },
  {
   "cell_type": "code",
   "execution_count": null,
   "metadata": {},
   "outputs": [],
   "source": [
    "cols_to_date = df.columns[df.columns.str.endswith('Date')]\n",
    "df[cols_to_date] = df[cols_to_date].fillna('1900-01-01')\n",
    "df[cols_to_date] = pd.to_datetime(df[cols_to_date])"
   ]
  },
  {
   "cell_type": "code",
   "execution_count": null,
   "metadata": {},
   "outputs": [],
   "source": [
    "df_goals = df.loc[:, df.columns.str.endswith('Goal')]\n",
    "df_data  = df.loc[:, ~df.columns.str.endswith('Goal')]"
   ]
  },
  {
   "cell_type": "code",
   "execution_count": null,
   "metadata": {},
   "outputs": [],
   "source": [
    "# fitness = df['dateComponents', 'startDate', 'endDate', 'duration', 'workoutActivityType', 'activeEnergyBurned', 'appleExerciseTime', 'appleStandHours']"
   ]
  }
 ],
 "metadata": {
  "kernelspec": {
   "display_name": "env",
   "language": "python",
   "name": "python3"
  },
  "language_info": {
   "codemirror_mode": {
    "name": "ipython",
    "version": 3
   },
   "file_extension": ".py",
   "mimetype": "text/x-python",
   "name": "python",
   "nbconvert_exporter": "python",
   "pygments_lexer": "ipython3",
   "version": "3.12.1"
  }
 },
 "nbformat": 4,
 "nbformat_minor": 2
}
