{
 "cells": [
  {
   "cell_type": "code",
   "execution_count": 1,
   "metadata": {},
   "outputs": [],
   "source": [
    "import re\n",
    "import textwrap\n",
    "import numpy as np\n",
    "import pandas as pd\n",
    "import seaborn as sns\n",
    "import matplotlib.pyplot as plt\n",
    "import xml.etree.ElementTree as ET\n",
    "from intervaltree import IntervalTree\n",
    "from datetime import date\n",
    "\n",
    "from io import BytesIO\n",
    "from openpyxl import Workbook\n",
    "from openpyxl.drawing.image import Image\n",
    "from openpyxl.styles import PatternFill, Font, Alignment"
   ]
  },
  {
   "cell_type": "code",
   "execution_count": 2,
   "metadata": {},
   "outputs": [],
   "source": [
    "def spaced_str(var):\n",
    "  \"\"\"Inserts spaces before capitalized letters.\n",
    "\n",
    "  Args:\n",
    "    word: The word to be modified.\n",
    "\n",
    "  Returns:\n",
    "    str: The string with spaces.\n",
    "  \"\"\"\n",
    "\n",
    "  if isinstance(var, str):\n",
    "    word = var\n",
    "    idx_caps = [m.start() for m in re.finditer(r'[A-Z]', word)]\n",
    "\n",
    "    # Inserts spaces before captalized letters except for the first one\n",
    "    for i, idx in enumerate(idx_caps[1:]):\n",
    "      word = word[:idx+i] + ' ' + word[idx+i:]\n",
    "\n",
    "    return word\n",
    "  return np.nan\n",
    "\n",
    "# Building a tree of intervals from df_workout\n",
    "def build_interval_tree(df_workout):\n",
    "    df_workout['startDate'] = pd.to_datetime(df_workout['startDate'])\n",
    "    df_workout['endDate']   = pd.to_datetime(df_workout['endDate'])\n",
    "\n",
    "    tree = IntervalTree()\n",
    "    for _, row in df_workout.iterrows():\n",
    "        start = row['startDate'] - pd.Timedelta(seconds=1)\n",
    "        end = row['endDate'] + pd.Timedelta(seconds=1)\n",
    "        tree.addi(start, end, row['id'])\n",
    "    return tree\n",
    "\n",
    "# Associating IDs using our tree\n",
    "def assign_workout_id(df, interval_tree):\n",
    "    df['startDate'] = pd.to_datetime(df['startDate'])\n",
    "    ids = []\n",
    "    for time in df['startDate']:\n",
    "        # Buscar intervalos que contêm o horário atual\n",
    "        matches = interval_tree[time]\n",
    "        # Adicionar o ID correspondente (ou None se não houver match)\n",
    "        ids.append(next(iter(matches)).data if matches else None)\n",
    "    df['id'] = ids\n",
    "    return df"
   ]
  },
  {
   "cell_type": "code",
   "execution_count": 3,
   "metadata": {},
   "outputs": [],
   "source": [
    "def parse_large_xml(file_path, tag, attribute=None, values=[]):\n",
    "    \"\"\"\n",
    "    Lê um XML grande de forma eficiente, processando elementos específicos.\n",
    "    \n",
    "    Args:\n",
    "    - file_path: Caminho para o arquivo XML.\n",
    "    - tag: Tag que você deseja extrair (ex.: 'Record').\n",
    "    - attribute: Atributo que você deseja filtrar (opcional).\n",
    "    - values: Valor do atributo que você deseja filtrar (opcional).\n",
    "    \n",
    "    Returns:\n",
    "    - DataFrame contendo os dados extraídos.\n",
    "    \"\"\"\n",
    "    rows = []\n",
    "    for event, elem in ET.iterparse(file_path, events=('end',)):\n",
    "        if elem.tag == tag:\n",
    "            if attribute and attribute in elem.attrib:\n",
    "                if elem.attrib[attribute] in values:\n",
    "                    rows.append(elem.attrib)  # Extrai os atributos como dicionário\n",
    "            elif not attribute:\n",
    "                rows.append(elem.attrib)  # Extrai os atributos como dicionário\n",
    "            elem.clear()  # Libera memória ao descartar o elemento processado\n",
    "    return pd.DataFrame(rows)"
   ]
  },
  {
   "cell_type": "code",
   "execution_count": 4,
   "metadata": {},
   "outputs": [],
   "source": [
    "file_path = './export/export_luiza/apple_health_export/export.xml'\n",
    "\n",
    "att_list = ['HKQuantityTypeIdentifierHeartRate', 'HKQuantityTypeIdentifierActiveEnergyBurned'] \n",
    "df_heart_cal = parse_large_xml(file_path, tag='Record', attribute='type', values=att_list)\n",
    "\n",
    "df_heart_cal = df_heart_cal.drop(['sourceName', 'sourceVersion', 'device', 'unit', 'creationDate', 'endDate'], axis=1)\n",
    "\n",
    "df_workout = parse_large_xml(file_path, tag='Workout')\n",
    "df_workout = df_workout.drop(columns=['durationUnit', 'sourceName', 'sourceVersion'], axis=1)\n",
    "\n",
    "df_activity = parse_large_xml(file_path, tag='ActivitySummary')\n",
    "df_activity = df_activity[['dateComponents', 'activeEnergyBurned', 'activeEnergyBurnedGoal', 'appleExerciseTime']]"
   ]
  },
  {
   "cell_type": "code",
   "execution_count": 5,
   "metadata": {},
   "outputs": [],
   "source": [
    "df_workout['duration'] = df_workout['duration'].apply(lambda value: int(float(value)) if pd.notna(value) else np.nan)\n",
    "df_workout['duration'] = df_workout['duration'].astype('Int64')\n",
    "\n",
    "df_activity['activeEnergyBurned'] = df_activity['activeEnergyBurned'].apply(lambda value: int(float(value)) if pd.notna(value) else np.nan)\n",
    "df_activity['activeEnergyBurned'] = df_activity['activeEnergyBurned'].astype('Int64')\n",
    "df_activity['appleExerciseTime']  = df_activity['appleExerciseTime'].astype('Int64')"
   ]
  },
  {
   "cell_type": "code",
   "execution_count": 6,
   "metadata": {},
   "outputs": [],
   "source": [
    "df_activity['activeEnergyBurnedGoal'] = df_activity['activeEnergyBurnedGoal'].astype('Int64')"
   ]
  },
  {
   "cell_type": "code",
   "execution_count": 7,
   "metadata": {},
   "outputs": [],
   "source": [
    "search_year = None\n",
    "# search_year = 2021"
   ]
  },
  {
   "cell_type": "code",
   "execution_count": 8,
   "metadata": {},
   "outputs": [],
   "source": [
    "today        = date.today()\n",
    "this_month   = today.month\n",
    "\n",
    "if not search_year:\n",
    "    search_year  = today.year if this_month == 12 else today.year - 1\n",
    "    \n",
    "df_workout   = df_workout[df_workout['startDate'].str.startswith(f\"{search_year}\")].reset_index(drop=True)\n",
    "df_heart_cal = df_heart_cal[df_heart_cal['startDate'].str.startswith(f\"{search_year}\")].reset_index(drop=True)\n",
    "df_activity  = df_activity[df_activity['dateComponents'].str.startswith(f\"{search_year}\")].reset_index(drop=True)"
   ]
  },
  {
   "cell_type": "markdown",
   "metadata": {},
   "source": [
    "Getting birthday and gender data:"
   ]
  },
  {
   "cell_type": "code",
   "execution_count": 9,
   "metadata": {},
   "outputs": [],
   "source": [
    "# bday  = df_metrics.iloc[:, 1].dropna()\n",
    "# bday  = pd.to_datetime(bday.iloc[0])\n",
    "\n",
    "# age   = today.year - bday.year - ((today.month, today.day) < (bday.month, bday.day))"
   ]
  },
  {
   "cell_type": "code",
   "execution_count": 10,
   "metadata": {},
   "outputs": [],
   "source": [
    "# bio_sex = df_metrics.iloc[:, 2].dropna()\n",
    "# bio_sex = bio_sex.iloc[0].split('Sex')[1]"
   ]
  },
  {
   "cell_type": "code",
   "execution_count": 11,
   "metadata": {},
   "outputs": [],
   "source": [
    "# df_metrics = df_metrics.iloc[2:, :]"
   ]
  },
  {
   "cell_type": "code",
   "execution_count": 12,
   "metadata": {},
   "outputs": [],
   "source": [
    "# df_metrics_old_years = df_metrics[~df_metrics['dateComponents'].str.startswith(f\"{search_year}\")].reset_index(drop=True)\n",
    "# df_metrics           = df_metrics[df_metrics['dateComponents'].str.startswith(f\"{search_year}\")].reset_index(drop=True)"
   ]
  },
  {
   "cell_type": "code",
   "execution_count": 13,
   "metadata": {},
   "outputs": [],
   "source": [
    "# df['type'] = df['type'].str.split('Identifier').where(df['type'].notnull(), np.nan).str[1]\n",
    "df_workout['workoutActivityType'] = df_workout['workoutActivityType'].str.split('ActivityType').where(df_workout['workoutActivityType'].notnull(), np.nan).str[1]"
   ]
  },
  {
   "cell_type": "code",
   "execution_count": 14,
   "metadata": {},
   "outputs": [],
   "source": [
    "df_workout['workoutActivityType'] = df_workout['workoutActivityType'].apply(spaced_str)"
   ]
  },
  {
   "cell_type": "markdown",
   "metadata": {},
   "source": [
    "Separating Heart Rate data from Workout data:"
   ]
  },
  {
   "cell_type": "code",
   "execution_count": 15,
   "metadata": {},
   "outputs": [],
   "source": [
    "df_heart_rate = df_heart_cal.loc[df_heart_cal['type'].str.endswith('HeartRate')].reset_index(drop=True)\n",
    "df_calories   = df_heart_cal.loc[df_heart_cal['type'].str.endswith('ActiveEnergyBurned')].reset_index(drop=True)\n",
    "# df_workout    = df.loc[~df['workoutActivityType'].isna()].reset_index(drop=True)"
   ]
  },
  {
   "cell_type": "code",
   "execution_count": 16,
   "metadata": {},
   "outputs": [],
   "source": [
    "df_heart_rate = df_heart_rate.rename(columns={'value': 'heart_rate'})\n",
    "df_calories = df_calories.rename(columns={'value': 'calories'})"
   ]
  },
  {
   "cell_type": "code",
   "execution_count": 17,
   "metadata": {},
   "outputs": [],
   "source": [
    "df_heart_rate['heart_rate'] = df_heart_rate['heart_rate'].astype(float).astype(int)\n",
    "df_calories['calories'] = df_calories['calories'].astype(float)"
   ]
  },
  {
   "cell_type": "code",
   "execution_count": 18,
   "metadata": {},
   "outputs": [],
   "source": [
    "ids = pd.Series(range(1, len(df_workout) + 1))\n",
    "df_workout = pd.concat([ids.rename('id'), df_workout], axis=1)"
   ]
  },
  {
   "cell_type": "markdown",
   "metadata": {},
   "source": [
    "Associating each Heart Rate to an Exercise"
   ]
  },
  {
   "cell_type": "code",
   "execution_count": 19,
   "metadata": {},
   "outputs": [],
   "source": [
    "workout_tree = build_interval_tree(df_workout)\n",
    "\n",
    "df_heart_rate = assign_workout_id(df_heart_rate, workout_tree)\n",
    "df_calories   = assign_workout_id(df_calories, workout_tree)"
   ]
  },
  {
   "cell_type": "code",
   "execution_count": 20,
   "metadata": {},
   "outputs": [],
   "source": [
    "df_heart_rate = df_heart_rate[~df_heart_rate['id'].isna()].reset_index(drop=True)\n",
    "df_calories   = df_calories[~df_calories['id'].isna()].reset_index(drop=True)"
   ]
  },
  {
   "cell_type": "markdown",
   "metadata": {},
   "source": [
    "Creating important columns:"
   ]
  },
  {
   "cell_type": "code",
   "execution_count": 21,
   "metadata": {},
   "outputs": [],
   "source": [
    "df_calories = df_calories.groupby(['id']).agg({'calories': 'sum'})"
   ]
  },
  {
   "cell_type": "code",
   "execution_count": 22,
   "metadata": {},
   "outputs": [],
   "source": [
    "df_full = pd.merge(df_workout, df_heart_rate[['id', 'heart_rate']], on='id', how='left')\n",
    "# df_full = pd.merge(df_full, df_calories, on='id', how='left')"
   ]
  },
  {
   "cell_type": "markdown",
   "metadata": {},
   "source": [
    "Adding date columns:"
   ]
  },
  {
   "cell_type": "code",
   "execution_count": 23,
   "metadata": {},
   "outputs": [],
   "source": [
    "months_dict = {1: 'JAN', 2: 'FEB', 3: 'MAR', 4: 'APR', 5: 'MAY', 6: 'JUN', \n",
    "            7: 'JUL', 8: 'AUG', 9: 'SEP', 10: 'OCT', 11: 'NOV', 12: 'DEC'}\n",
    "\n",
    "df_full['date']  = df_full['startDate'].dt.date\n",
    "df_full['month'] = df_full['startDate'].dt.month\n",
    "df_full['year']  = df_full['startDate'].dt.year\n",
    "df_full['month_name'] = df_full['month'].map(months_dict)\n",
    "\n",
    "df_activity['dateComponents'] = pd.to_datetime(df_activity['dateComponents'])\n",
    "df_activity['month'] = df_activity['dateComponents'].dt.month\n",
    "df_activity['month_name'] = df_activity['month'].map(months_dict)"
   ]
  },
  {
   "cell_type": "markdown",
   "metadata": {},
   "source": [
    "Defining Heart Rate info necessary:"
   ]
  },
  {
   "cell_type": "code",
   "execution_count": 24,
   "metadata": {},
   "outputs": [],
   "source": [
    "col_names_hr = ['id', 'workoutActivityType', 'duration', 'date','month', 'month_name' ]"
   ]
  },
  {
   "cell_type": "code",
   "execution_count": 25,
   "metadata": {},
   "outputs": [],
   "source": [
    "df_hr_mean = df_full.groupby(col_names_hr).agg({'heart_rate': 'mean'})\n",
    "df_hr_mean = df_hr_mean.reset_index()\n",
    "df_hr_mean = df_hr_mean.rename(columns={'heart_rate': 'heart_rate_mean'})\n",
    "\n",
    "df_hr_mean['heart_rate_mean'] = df_hr_mean['heart_rate_mean'].apply(lambda value: int(value) if not pd.isna(value) else value)"
   ]
  },
  {
   "cell_type": "code",
   "execution_count": 26,
   "metadata": {},
   "outputs": [],
   "source": [
    "serie_hr_max = df_full.groupby(col_names_hr).agg({'heart_rate': 'max'}).reset_index(drop=True)\n",
    "serie_hr_max.columns = ['heart_rate_max']\n",
    "\n",
    "df_v1 = pd.concat([df_hr_mean, serie_hr_max], axis=1)"
   ]
  },
  {
   "cell_type": "code",
   "execution_count": 27,
   "metadata": {},
   "outputs": [],
   "source": [
    "df_v2 = pd.merge(df_v1, df_calories, on='id', how='left')\n",
    "df_v2['calories'] = df_v2['calories'].fillna(0)\n",
    "df_v2['calories'] = df_v2['calories'].astype(int)"
   ]
  },
  {
   "cell_type": "markdown",
   "metadata": {},
   "source": [
    "Results:"
   ]
  },
  {
   "cell_type": "markdown",
   "metadata": {},
   "source": [
    "Top sports:"
   ]
  },
  {
   "cell_type": "code",
   "execution_count": 28,
   "metadata": {},
   "outputs": [],
   "source": [
    "sports_by_count    = df_v2['workoutActivityType'].value_counts()\n",
    "total_sports       = len(sports_by_count)\n",
    "top_sport_by_count = sports_by_count.idxmax()\n",
    "count_top_sport    = sports_by_count.max()\n",
    "\n",
    "top_sports_by_time = df_v2.groupby(by=['workoutActivityType']).agg({'duration': 'sum', 'calories': 'sum', 'date': 'count'}).sort_values(by='duration', ascending=False)\n",
    "\n",
    "top_sport_by_time       = top_sports_by_time.idxmax().iloc[0]\n",
    "time_top_sport          = top_sports_by_time.max().iloc[0]\n",
    "count_top_sport_by_time = sports_by_count[top_sport_by_time]\n",
    "\n",
    "top_5_sports_by_time    = top_sports_by_time.iloc[:5, :].reset_index()\n",
    "top_5_sports_by_time.columns = ['Sport', 'Total Minutes', 'Total Calories', 'Sessions']"
   ]
  },
  {
   "cell_type": "markdown",
   "metadata": {},
   "source": [
    "Heart Rate:"
   ]
  },
  {
   "cell_type": "code",
   "execution_count": 29,
   "metadata": {},
   "outputs": [],
   "source": [
    "highest_heart_rate = df_v2.loc[df_v2['heart_rate_max'].idxmax(), :]\n",
    "heart_rate_per_sport = df_v2.groupby(['workoutActivityType']).agg({'heart_rate_mean': 'mean'})\n",
    "sport_highest_avg_heart_rate = heart_rate_per_sport.idxmax().iloc[0]\n",
    "highest_avg_heart_rate = int(heart_rate_per_sport.max().iloc[0])"
   ]
  },
  {
   "cell_type": "markdown",
   "metadata": {},
   "source": [
    "Calories:"
   ]
  },
  {
   "cell_type": "code",
   "execution_count": 30,
   "metadata": {},
   "outputs": [],
   "source": [
    "calories_per_sport = df_v2.groupby(['workoutActivityType']).agg({'calories': 'mean'})\n",
    "sport_highest_avg_calories = calories_per_sport.idxmax().iloc[0]\n",
    "highest_avg_calories = int(calories_per_sport.max().iloc[0])"
   ]
  },
  {
   "cell_type": "markdown",
   "metadata": {},
   "source": [
    "Total time exercising and goals:"
   ]
  },
  {
   "cell_type": "code",
   "execution_count": 31,
   "metadata": {},
   "outputs": [],
   "source": [
    "exercise_total_time = top_sports_by_time['duration'].sum()\n",
    "exercise_time_per_day = int(exercise_total_time/365)\n",
    "exercise_total_days = len(df_v2['date'].drop_duplicates())\n",
    "exercise_total_calories = top_sports_by_time['calories'].sum()\n",
    "exercise_calories_per_day = int(exercise_total_calories/365)"
   ]
  },
  {
   "cell_type": "code",
   "execution_count": 32,
   "metadata": {},
   "outputs": [],
   "source": [
    "energy_goal_check = df_activity[(df_activity['activeEnergyBurned'] >= df_activity['activeEnergyBurnedGoal']) & (df_activity['activeEnergyBurnedGoal'] > 0)].reset_index(drop=True)\n",
    "days_energy_goal_check = energy_goal_check.shape[0]\n",
    "\n",
    "# start_date = date(date.today().year, 1, 1)\n",
    "# days_since_start_of_year = (today - start_date).days\n",
    "# percent_goal_check_so_far = round(days_energy_goal_check/days_since_start_of_year*100, 2)\n",
    "percent_goal_check_so_far = round(days_energy_goal_check/365*100, 2)"
   ]
  },
  {
   "cell_type": "markdown",
   "metadata": {},
   "source": [
    "Top day of exercises:"
   ]
  },
  {
   "cell_type": "code",
   "execution_count": 34,
   "metadata": {},
   "outputs": [],
   "source": [
    "top_exercise_day_data = df_v2.groupby(['date']).agg({'duration': 'sum', 'calories': 'sum'})\n",
    "\n",
    "top_exercise_day = top_exercise_day_data.idxmax()['duration']\n",
    "\n",
    "top_exercise_day_calories = top_exercise_day_data.loc[top_exercise_day, 'calories']\n",
    "top_exercise_day_time = top_exercise_day_data.loc[top_exercise_day, 'duration']\n",
    "\n",
    "top_exercise_day_training = df_v2.loc[df_v2['date'] == (top_exercise_day)]\n",
    "top_exercise_day_training = top_exercise_day_training.rename(\n",
    "    columns={\n",
    "        'workoutActivityType': 'Sport',\n",
    "        'duration': 'Total Minutes',\n",
    "        'calories': 'Total Calories'\n",
    "    }\n",
    ")\n",
    "\n",
    "top_exercise_day = pd.Timestamp(top_exercise_day)"
   ]
  },
  {
   "cell_type": "markdown",
   "metadata": {},
   "source": [
    "Most active day:"
   ]
  },
  {
   "cell_type": "code",
   "execution_count": 35,
   "metadata": {},
   "outputs": [],
   "source": [
    "top_active_day_data = df_activity.loc[df_activity['activeEnergyBurned'].idxmax(), ['dateComponents', 'activeEnergyBurned', 'appleExerciseTime']]\n",
    "top_active_day = top_active_day_data['dateComponents']\n",
    "top_active_day_calories = top_active_day_data['activeEnergyBurned']\n",
    "top_active_day_time = top_active_day_data['appleExerciseTime']\n",
    "\n",
    "top_active_day_training = df_v2.loc[df_v2['date'] == (top_active_day)]\n",
    "top_active_day_training = top_active_day_training.rename(\n",
    "    columns={\n",
    "        'workoutActivityType': 'Sport',\n",
    "        'duration': 'Total Minutes',\n",
    "        'calories': 'Total Calories'\n",
    "    }\n",
    ")\n",
    "\n",
    "top_active_day_training_none = None"
   ]
  },
  {
   "cell_type": "markdown",
   "metadata": {},
   "source": [
    "Showing all of the results:"
   ]
  },
  {
   "cell_type": "code",
   "execution_count": 36,
   "metadata": {},
   "outputs": [],
   "source": [
    "def tsd(num):\n",
    "    \"\"\" Formats a number including thousands separator. \"\"\"\n",
    "    return f\"{num:,.0f}\".replace(\",\", \".\")"
   ]
  },
  {
   "cell_type": "markdown",
   "metadata": {},
   "source": [
    "MUDAR O NOME DAS VARIAVEIS E AJUSTAR PRA ENTRAR A LINHA 6"
   ]
  },
  {
   "cell_type": "code",
   "execution_count": 37,
   "metadata": {},
   "outputs": [],
   "source": [
    "row_year_1 = (f'You exercised for {tsd(exercise_total_time)} minutes this year in {exercise_total_days} different days and burned {tsd(exercise_total_calories)} calories!')\n",
    "row_year_2 = (f'That is an average of {exercise_time_per_day} minutes and {exercise_calories_per_day} calories per day.')\n",
    "\n",
    "row_sports_1 = (f'And you experimented {total_sports} different sports!')\n",
    "row_sports_2 = (f'Your top sport by number of registers is: {top_sport_by_count} and you practiced it {count_top_sport} times this year.')\n",
    "\n",
    "if top_sport_by_count != top_sport_by_time:\n",
    "    row_sports_3 = (f'But your top sport by time is: {top_sport_by_time} and you practiced it {count_top_sport_by_time} times this year for {tsd(time_top_sport)} minutes.')\n",
    "else:\n",
    "    row_sports_3 = (f'And your top sport by time is also: {top_sport_by_time}! You practiced it for {tsd(time_top_sport)} minutes.')\n",
    "\n",
    "row_sports_4 = (f'You burned an average of {int(top_5_sports_by_time.loc[0, 'Total Calories']/count_top_sport_by_time)} calories per {top_sport_by_time} session.')\n",
    "\n",
    "row_sports_5 = (f'Your top 5 sports are:')\n",
    "table_sports_1 = top_5_sports_by_time"
   ]
  },
  {
   "cell_type": "code",
   "execution_count": 38,
   "metadata": {},
   "outputs": [],
   "source": [
    "row_heart_1 = (f'The sport that makes your heart race is: {sport_highest_avg_heart_rate}!')\n",
    "row_heart_2 = (f'The average heart rate you get when practicing it is {highest_avg_heart_rate} bpm.')"
   ]
  },
  {
   "cell_type": "code",
   "execution_count": 39,
   "metadata": {},
   "outputs": [],
   "source": [
    "row_calories_1 = (f'But the sport that really makes you burn is {sport_highest_avg_calories} with an average of {highest_avg_calories} calories per session!')"
   ]
  },
  {
   "cell_type": "code",
   "execution_count": 40,
   "metadata": {},
   "outputs": [],
   "source": [
    "row_day_1 = (f'The day you exercised the most was {top_exercise_day.month_name()} {top_exercise_day.day}.')\n",
    "row_day_2 = (f'You worked out for {top_exercise_day_time} minutes and burned {int(top_exercise_day_calories)} calories!')\n",
    "\n",
    "row_day_3 = (f'Exercises that day:')\n",
    "top_exercise_day_training = top_exercise_day_training.reset_index(drop=True)\n",
    "table_day_1 = top_exercise_day_training[['Sport', 'Total Minutes', 'Total Calories']]"
   ]
  },
  {
   "cell_type": "code",
   "execution_count": 41,
   "metadata": {},
   "outputs": [],
   "source": [
    "row_day_4 = (f'Now, your most active day was... {top_active_day.month_name()} {top_active_day.day}!')\n",
    "row_day_5 = (f'Your movement ring reached {tsd(int(top_active_day_calories))} calories and your exercise ring registered {top_active_day_time} minutes!')\n",
    "\n",
    "if top_active_day_training.empty:\n",
    "    row_day_6 = 'However, there are no exercises registered for this day...'\n",
    "    table_day_2 = ''\n",
    "else:\n",
    "    top_active_day_training = top_active_day_training.reset_index(drop=True)\n",
    "    row_day_6 = (f\"Exercises that day: \")\n",
    "    table_day_2 = top_active_day_training[['Sport', 'Total Minutes', 'Total Calories']]"
   ]
  },
  {
   "cell_type": "code",
   "execution_count": 42,
   "metadata": {},
   "outputs": [],
   "source": [
    "row_goals_1 = (f'You reached your movement goal on {days_energy_goal_check} days this year!')\n",
    "row_goals_2 = (f'That represents {percent_goal_check_so_far}% of the year!')\n",
    "\n",
    "row_view_1 = (f'Below you can see your results throughout the year.')"
   ]
  },
  {
   "cell_type": "code",
   "execution_count": 43,
   "metadata": {},
   "outputs": [],
   "source": [
    "df_activity_per_month = df_activity.groupby(['month', 'month_name']).agg({'appleExerciseTime': 'sum'}).reset_index()\n",
    "df_activity_per_month['hours'] = df_activity_per_month['appleExerciseTime'].apply(lambda value: round(value/60, 1))"
   ]
  },
  {
   "cell_type": "code",
   "execution_count": 44,
   "metadata": {},
   "outputs": [
    {
     "data": {
      "image/png": "[encoded data removed]",
      "text/plain": [
       "<Figure size 1200x500 with 1 Axes>"
      ]
     },
     "metadata": {},
     "output_type": "display_data"
    }
   ],
   "source": [
    "fig, ax1 = plt.subplots(figsize=(12, 5))\n",
    "\n",
    "mean_value = df_activity_per_month['hours'].mean()\n",
    "ax1.axhline(mean_value, color='orange', linestyle=':', linewidth=2, label='Average')\n",
    "ax1.annotate(\n",
    "    f'{mean_value:.2f} h',  # Texto a ser exibido, ajustado para duas casas decimais\n",
    "    xy=(0.93, mean_value*1.02),  # Coordenadas (x, y) para posicionar a anotação\n",
    "    xycoords=('axes fraction', 'data'),  # Define que x usa fração dos eixos e y os dados\n",
    "    fontsize=10,  # Tamanho da fonte\n",
    "    color='orange',  # Cor do texto\n",
    "    bbox=dict(boxstyle=\"round,pad=0.3\", edgecolor='none', facecolor='white', alpha=0.7)  # Fundo branco com leve transparência\n",
    ")\n",
    "\n",
    "lp_time_per_month = sns.lineplot(data=df_activity_per_month, x='month_name', y='hours')\n",
    "ax1.set_xlabel('');\n",
    "ax1.yaxis.set_visible(False)\n",
    "\n",
    "y_min = df_activity_per_month['hours'].min()\n",
    "y_max = df_activity_per_month['hours'].max()\n",
    "ax1.set_ylim(y_min * 0.8, y_max * 1.08)\n",
    "ax1.set_title('Total Workout Time per Month')\n",
    "\n",
    "for i, row in df_activity_per_month.iterrows():\n",
    "    ax1.annotate(\n",
    "        text=f\"{str(row['hours']).replace('.', ',')} h\",  # Texto da anotação\n",
    "        xy=(row['month_name'], row['hours']),  # Coordenadas do ponto\n",
    "        xytext=(0, 5),  # Deslocamento em relação ao ponto (x, y)\n",
    "        textcoords='offset points',  # Usa o deslocamento definido acima\n",
    "        ha='center', fontsize=10, color='black', bbox=dict(facecolor='white', alpha=0.6, edgecolor='none')\n",
    "    )\n",
    "\n",
    "\n",
    "img_buffer_1 = BytesIO()\n",
    "plt.tight_layout()\n",
    "plt.savefig(img_buffer_1, format='png', dpi=100)"
   ]
  },
  {
   "cell_type": "code",
   "execution_count": 45,
   "metadata": {},
   "outputs": [
    {
     "data": {
      "image/png": "[encoded data removed]",
      "text/plain": [
       "<Figure size 1800x500 with 1 Axes>"
      ]
     },
     "metadata": {},
     "output_type": "display_data"
    }
   ],
   "source": [
    "df_v2_gb = df_v2.groupby(['month', 'month_name', 'workoutActivityType']).agg({'duration': 'sum'}).reset_index()\n",
    "df_v2_sport_time = df_v2.groupby(['workoutActivityType']).agg({'duration': 'sum'}).reset_index()\n",
    "df_v2_sport_time = df_v2_sport_time.sort_values(by='duration', ascending=False)\n",
    "\n",
    "fig, ax1 = plt.subplots(figsize=(18, 5))\n",
    "lp_time_per_sport = sns.barplot(data=df_v2_sport_time, x='workoutActivityType', y='duration', hue='workoutActivityType');\n",
    "ax1.yaxis.set_visible(False)\n",
    "ax1.set_ylim()\n",
    "\n",
    "labels = [textwrap.fill(label, width=11) for label in df_v2_sport_time['workoutActivityType']]  # Limitando a 14 caracteres e quebrando a linha\n",
    "ax1.set_xticks(range(len(labels)))  # Definindo o número de ticks com base no número de rótulos\n",
    "ax1.set_xticklabels(labels, rotation=0, fontdict={'fontsize': 10});  \n",
    "ax1.set_xlabel('');\n",
    "ax1.set_title('Your Workout Distribution')\n",
    "\n",
    "y_max = df_v2_sport_time['duration'].max()\n",
    "ax1.set_ylim(0, y_max * 1.08)\n",
    "\n",
    "for container in lp_time_per_sport.containers:\n",
    "    labels = [f'{v.get_height():,.0f} min'.replace(',', '.') if v.get_height() != 0 else '' for v in container]\n",
    "    lp_time_per_sport.bar_label(container, labels=labels, padding=3, fontsize=10, bbox=dict(boxstyle=\"round,pad=0.2\", facecolor='white', alpha=0, edgecolor='none'))\n",
    "\n",
    "img_buffer_2 = BytesIO()\n",
    "plt.tight_layout()\n",
    "plt.savefig(img_buffer_2, format='png', dpi=100)"
   ]
  },
  {
   "cell_type": "markdown",
   "metadata": {},
   "source": [
    "Gerando o relatório:"
   ]
  },
  {
   "cell_type": "code",
   "execution_count": 46,
   "metadata": {},
   "outputs": [],
   "source": [
    "def insert_table(sheet, table, dark, light):\n",
    "    center_alignment = Alignment(horizontal='center', vertical='center')\n",
    "    curr_row = sheet.max_row + 1\n",
    "\n",
    "    # Insere o cabeçalho\n",
    "    for i_col, col in enumerate(table.columns):\n",
    "        sheet.cell(row=curr_row, column=i_col+3).value = col\n",
    "        sheet.cell(row=curr_row, column=i_col+3).fill = PatternFill(start_color=dark, fill_type='solid')\n",
    "        sheet.cell(row=curr_row, column=i_col+3).font = Font(bold=True)\n",
    "        if i_col > 0: \n",
    "            sheet.cell(row=curr_row, column=i_col+3).alignment = center_alignment\n",
    "    sheet.cell(row=curr_row, column=2).fill = PatternFill(start_color=dark, fill_type='solid')\n",
    "\n",
    "    # Insere os dados\n",
    "    next_row = curr_row + 1\n",
    "    for i_row in range(table.shape[0]):\n",
    "        sheet.cell(row=i_row+next_row, column=2).value = i_row+1 # Insere as posições\n",
    "        sheet.cell(row=i_row+next_row, column=2).fill = PatternFill(start_color=dark, fill_type='solid')\n",
    "        sheet.cell(row=i_row+next_row, column=2).alignment = center_alignment\n",
    "        for i_col in range(table.shape[1]):\n",
    "            value = table.iloc[i_row, i_col]\n",
    "            sheet.cell(row=i_row+next_row, column=i_col+3).fill = PatternFill(start_color=light, fill_type='solid')\n",
    "            if i_col > 0:\n",
    "                sheet.cell(row=i_row+next_row, column=i_col+3).value = value\n",
    "                sheet.cell(row=i_row+next_row, column=i_col+3).number_format = '#,##0'\n",
    "                sheet.cell(row=i_row+next_row, column=i_col+3).alignment = center_alignment\n",
    "            else:\n",
    "                sheet.cell(row=i_row+next_row, column=i_col+3).value = value\n",
    "                sheet.cell(row=i_row+next_row, column=i_col+3).alignment = Alignment(vertical='center', wrap_text=True)\n",
    "\n",
    "    return sheet"
   ]
  },
  {
   "cell_type": "code",
   "execution_count": 47,
   "metadata": {},
   "outputs": [],
   "source": [
    "wb = Workbook()\n",
    "sheet = wb.active\n",
    "\n",
    "sheet.sheet_view.showGridLines = False\n",
    "sheet.title = 'Fitness'\n",
    "\n",
    "sheet.column_dimensions['A'].width = 10\n",
    "sheet.column_dimensions['B'].width = 4\n",
    "for col in ['C', 'D', 'E', 'F']:\n",
    "    sheet.column_dimensions[col].width = 16\n",
    "\n",
    "sheet.cell(row=1, column=1).value = 'WORKOUT REPORT'\n",
    "sheet.cell(row=1, column=1).font = Font(size=28, name='Bahnschrift Light')\n",
    "\n",
    "sheet.cell(row=3, column=1).value = 'YOUR INFO:'\n",
    "sheet.cell(row=3, column=1).font = Font(size=14, name='Bahnschrift Light')\n",
    "\n",
    "\n",
    "dark_orange  = 'F1A983'\n",
    "light_orange = 'FDF0E9'\n",
    "dark_blue    = 'A6C9EC'\n",
    "light_blue   = 'EBF3FB'\n",
    "center_alignment = Alignment(horizontal='center', vertical='center')\n",
    "\n",
    "sheet.row_dimensions[4].height = 9\n",
    "\n",
    "# Year general info:\n",
    "sheet.cell(row=5, column=1).value       = search_year\n",
    "sheet.cell(row=5, column=1).fill        = PatternFill(start_color='B5E6A2', fill_type='solid')\n",
    "sheet.cell(row=5, column=1).alignment   = center_alignment\n",
    "sheet.cell(row=5, column=2).value       = row_year_1\n",
    "\n",
    "# Sports\n",
    "sheet.cell(row=7, column=1).value       = 'Sports'\n",
    "sheet.cell(row=7, column=1).fill        = PatternFill(start_color=dark_orange, fill_type='solid')\n",
    "sheet.cell(row=7, column=1).alignment   = center_alignment\n",
    "sheet.cell(row=7, column=2).value       = row_sports_1\n",
    "sheet.cell(row=8, column=2).value       = row_sports_2\n",
    "sheet.cell(row=9, column=2).value       = row_sports_3\n",
    "sheet.cell(row=10, column=2).value      = row_sports_4\n",
    "sheet.cell(row=12, column=2).value      = row_sports_5\n",
    "sheet.cell(row=12, column=2).font       = Font(bold=True)\n",
    "sheet = insert_table(sheet, table_sports_1, dark_orange, light_orange)\n",
    "\n",
    "# Heart\n",
    "sheet.cell(row=20, column=1).value     = 'Heart'\n",
    "sheet.cell(row=20, column=1).fill      = PatternFill(start_color='E49EDD', fill_type='solid')\n",
    "sheet.cell(row=20, column=1).alignment = center_alignment\n",
    "sheet.cell(row=20, column=2).value     = row_heart_1\n",
    "sheet.cell(row=21, column=2).value     = row_heart_2\n",
    "\n",
    "# Calories\n",
    "sheet.cell(row=23, column=1).value     = 'Calories'\n",
    "sheet.cell(row=23, column=1).fill      = PatternFill(start_color='F5B20B', fill_type='solid')\n",
    "sheet.cell(row=23, column=1).alignment = center_alignment\n",
    "sheet.cell(row=23, column=2).value     = row_calories_1\n",
    "\n",
    "# Days\n",
    "sheet.cell(row=25, column=1).value     = 'Days'\n",
    "sheet.cell(row=25, column=1).fill      = PatternFill(start_color=dark_blue, fill_type='solid')\n",
    "sheet.cell(row=25, column=1).alignment = center_alignment\n",
    "sheet.cell(row=25, column=2).value     = row_day_1\n",
    "sheet.cell(row=26, column=2).value     = row_day_2\n",
    "sheet.cell(row=28, column=2).value     = row_day_3\n",
    "sheet = insert_table(sheet, table_day_1, dark_blue, light_blue)\n",
    "\n",
    "curr_row = sheet.max_row + 3\n",
    "\n",
    "sheet.cell(row=curr_row, column=2).value   = row_day_4\n",
    "sheet.cell(row=curr_row+1, column=2).value = row_day_5\n",
    "sheet.cell(row=curr_row+3, column=2).value = row_day_6\n",
    "if not row_day_6.startswith('However'):\n",
    "    sheet = insert_table(sheet, table_day_2, dark_blue, light_blue)\n",
    "\n",
    "# Goals\n",
    "curr_row = sheet.max_row + 2\n",
    "sheet.cell(row=curr_row, column=1).value     = 'Goals'\n",
    "sheet.cell(row=curr_row, column=1).fill      = PatternFill(start_color='E76B91', fill_type='solid')\n",
    "sheet.cell(row=curr_row, column=1).alignment = center_alignment\n",
    "sheet.cell(row=curr_row, column=2).value     = row_goals_1\n",
    "sheet.cell(row=curr_row+1, column=2).value   = row_goals_2\n",
    "\n",
    "# View\n",
    "sheet.cell(row=curr_row+3, column=1).value     = 'View'\n",
    "sheet.cell(row=curr_row+3, column=1).fill      = PatternFill(start_color='FCEB6A', fill_type='solid')\n",
    "sheet.cell(row=curr_row+3, column=1).alignment = center_alignment\n",
    "sheet.cell(row=curr_row+3, column=2).value     = row_view_1\n",
    "\n",
    "img_1 = Image(img_buffer_1)\n",
    "img_1.width = 730\n",
    "img_1.height = 305\n",
    "img_2 = Image(img_buffer_2)\n",
    "img_2.width = 730\n",
    "img_2.height = 205\n",
    "\n",
    "row_img1 = curr_row+5\n",
    "sheet.add_image(img_1, f'B{row_img1}')\n",
    "sheet.add_image(img_2, f'B{row_img1+16}')\n",
    "\n",
    "excel_title = f\"{search_year}_fitness_report.xlsx\""
   ]
  },
  {
   "cell_type": "code",
   "execution_count": 48,
   "metadata": {},
   "outputs": [],
   "source": [
    "wb.save(excel_title)"
   ]
  }
 ],
 "metadata": {
  "kernelspec": {
   "display_name": "env",
   "language": "python",
   "name": "python3"
  },
  "language_info": {
   "codemirror_mode": {
    "name": "ipython",
    "version": 3
   },
   "file_extension": ".py",
   "mimetype": "text/x-python",
   "name": "python",
   "nbconvert_exporter": "python",
   "pygments_lexer": "ipython3",
   "version": "3.12.1"
  }
 },
 "nbformat": 4,
 "nbformat_minor": 2
}
