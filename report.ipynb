{
 "cells": [
  {
   "cell_type": "code",
   "execution_count": 1,
   "metadata": {},
   "outputs": [],
   "source": [
    "import re\n",
    "import textwrap\n",
    "import numpy as np\n",
    "import pandas as pd\n",
    "import seaborn as sns\n",
    "import matplotlib.pyplot as plt\n",
    "from datetime import date"
   ]
  },
  {
   "cell_type": "code",
   "execution_count": 2,
   "metadata": {},
   "outputs": [],
   "source": [
    "def spaced_str(var):\n",
    "  \"\"\"Inserts spaces before capitalized letters.\n",
    "\n",
    "  Args:\n",
    "    word: The word to be modified.\n",
    "\n",
    "  Returns:\n",
    "    str: The string with spaces.\n",
    "  \"\"\"\n",
    "\n",
    "  if isinstance(var, str):\n",
    "    word = var\n",
    "    idx_caps = [m.start() for m in re.finditer(r'[A-Z]', word)]\n",
    "\n",
    "    # Inserts spaces before captalized letters except for the first one\n",
    "    for i, idx in enumerate(idx_caps[1:]):\n",
    "      word = word[:idx+i] + ' ' + word[idx+i:]\n",
    "\n",
    "    return word\n",
    "  return np.nan\n",
    "\n",
    "def associated_workout(row, df_workout):\n",
    "    \"\"\" For each register, finds correspondent exercise. \"\"\"\n",
    "\n",
    "    df_filter = df_workout[\n",
    "        (df_workout['startDate'] <= row['startDate']) & \n",
    "        (df_workout['endDate'] >= row['startDate'])\n",
    "    ]\n",
    "    return df_filter['id'].iloc[0] if not df_filter.empty else None"
   ]
  },
  {
   "cell_type": "code",
   "execution_count": 3,
   "metadata": {},
   "outputs": [],
   "source": [
    "df = pd.read_xml('./export/export_luiza/apple_health_export/export.xml')\n",
    "df_bkp = df.copy()"
   ]
  },
  {
   "cell_type": "code",
   "execution_count": 4,
   "metadata": {},
   "outputs": [],
   "source": [
    "df = df_bkp.copy()"
   ]
  },
  {
   "cell_type": "code",
   "execution_count": 5,
   "metadata": {},
   "outputs": [],
   "source": [
    "df['duration'] = df['duration'].apply(lambda value: int(value) if pd.notna(value) else np.nan)\n",
    "df['duration'] = df['duration'].astype('Int64')"
   ]
  },
  {
   "cell_type": "code",
   "execution_count": 6,
   "metadata": {},
   "outputs": [],
   "source": [
    "df_metrics = df[df['startDate'].isna()].reset_index(drop=True)\n",
    "df         = df[~df['startDate'].isna()].reset_index(drop=True)"
   ]
  },
  {
   "cell_type": "code",
   "execution_count": 7,
   "metadata": {},
   "outputs": [],
   "source": [
    "today        = date.today()\n",
    "this_month   = today.month\n",
    "search_year  = today.year if this_month == 12 else today.year - 1\n",
    "df_old_years = df[~df['startDate'].str.startswith(f\"{search_year}\")].reset_index(drop=True)\n",
    "df           = df[df['startDate'].str.startswith(f\"{search_year}\")].reset_index(drop=True)"
   ]
  },
  {
   "cell_type": "markdown",
   "metadata": {},
   "source": [
    "Getting birthday and gender data:"
   ]
  },
  {
   "cell_type": "code",
   "execution_count": 8,
   "metadata": {},
   "outputs": [],
   "source": [
    "bday  = df_metrics.iloc[:, 1].dropna()\n",
    "bday  = pd.to_datetime(bday.iloc[0])\n",
    "\n",
    "age   = today.year - bday.year - ((today.month, today.day) < (bday.month, bday.day))"
   ]
  },
  {
   "cell_type": "code",
   "execution_count": 9,
   "metadata": {},
   "outputs": [],
   "source": [
    "bio_sex = df_metrics.iloc[:, 2].dropna()\n",
    "bio_sex = bio_sex.iloc[0].split('Sex')[1]"
   ]
  },
  {
   "cell_type": "code",
   "execution_count": 10,
   "metadata": {},
   "outputs": [],
   "source": [
    "df_metrics = df_metrics.iloc[2:, :]"
   ]
  },
  {
   "cell_type": "code",
   "execution_count": 11,
   "metadata": {},
   "outputs": [],
   "source": [
    "df_metrics_old_years = df_metrics[~df_metrics['dateComponents'].str.startswith(f\"{search_year}\")].reset_index(drop=True)\n",
    "df_metrics           = df_metrics[df_metrics['dateComponents'].str.startswith(f\"{search_year}\")].reset_index(drop=True)"
   ]
  },
  {
   "cell_type": "markdown",
   "metadata": {},
   "source": [
    "Dropping empty columns:"
   ]
  },
  {
   "cell_type": "code",
   "execution_count": 12,
   "metadata": {},
   "outputs": [],
   "source": [
    "cols_to_drop = df.columns[df.isnull().all()]\n",
    "df = df.drop(columns=cols_to_drop)\n",
    "\n",
    "cols_to_drop = df_metrics.columns[df_metrics.isnull().all()]\n",
    "df_metrics = df_metrics.drop(columns=cols_to_drop)"
   ]
  },
  {
   "cell_type": "markdown",
   "metadata": {},
   "source": [
    "Dropping one-valued columns:"
   ]
  },
  {
   "cell_type": "code",
   "execution_count": 13,
   "metadata": {},
   "outputs": [],
   "source": [
    "df_nan_1   = df.count()\n",
    "idxs_nan_1 = df_nan_1[df_nan_1 == 1].index\n",
    "cols_nan_1 = df_nan_1[idxs_nan_1].index.tolist()\n",
    "\n",
    "df = df.drop(columns=cols_nan_1)"
   ]
  },
  {
   "cell_type": "markdown",
   "metadata": {},
   "source": [
    "Analyzing and dropping unnecessary columns:"
   ]
  },
  {
   "cell_type": "code",
   "execution_count": 14,
   "metadata": {},
   "outputs": [],
   "source": [
    "df = df.drop(columns=['sourceName', 'sourceVersion', 'device', 'WorkoutRoute'])"
   ]
  },
  {
   "cell_type": "markdown",
   "metadata": {},
   "source": [
    "Removing the two first empty rows:"
   ]
  },
  {
   "cell_type": "code",
   "execution_count": 15,
   "metadata": {},
   "outputs": [],
   "source": [
    "df = df.iloc[2:, :].reset_index(drop=True)"
   ]
  },
  {
   "cell_type": "code",
   "execution_count": 16,
   "metadata": {},
   "outputs": [],
   "source": [
    "df['type'] = df['type'].str.split('Identifier').where(df['type'].notnull(), np.nan).str[1]\n",
    "df['workoutActivityType'] = df['workoutActivityType'].str.split('ActivityType').where(df['workoutActivityType'].notnull(), np.nan).str[1]"
   ]
  },
  {
   "cell_type": "code",
   "execution_count": 17,
   "metadata": {},
   "outputs": [],
   "source": [
    "df['workoutActivityType'] = df['workoutActivityType'].apply(spaced_str)"
   ]
  },
  {
   "cell_type": "markdown",
   "metadata": {},
   "source": [
    "Separating Heart Rate data from Workout data:"
   ]
  },
  {
   "cell_type": "code",
   "execution_count": 18,
   "metadata": {},
   "outputs": [],
   "source": [
    "df_heart_rate = df.loc[df['type'] == 'HeartRate'].reset_index(drop=True)\n",
    "df_calories   = df.loc[df['type'] == 'ActiveEnergyBurned'].reset_index(drop=True)\n",
    "df_workout    = df.loc[~df['workoutActivityType'].isna()].reset_index(drop=True)"
   ]
  },
  {
   "cell_type": "code",
   "execution_count": 19,
   "metadata": {},
   "outputs": [],
   "source": [
    "cols_to_drop  = df_heart_rate.columns[df_heart_rate.isnull().all()]\n",
    "df_heart_rate = df_heart_rate.drop(columns=cols_to_drop)\n",
    "df_heart_rate = df_heart_rate.rename(columns={'value': 'heart_rate'})\n",
    "\n",
    "cols_to_drop  = df_calories.columns[df_calories.isnull().all()]\n",
    "df_calories = df_calories.drop(columns=cols_to_drop)\n",
    "df_calories = df_calories.rename(columns={'value': 'calories'})\n",
    "\n",
    "cols_to_drop = df_workout.columns[df_workout.isnull().all()]\n",
    "df_workout  = df_workout.drop(columns=cols_to_drop)"
   ]
  },
  {
   "cell_type": "code",
   "execution_count": 20,
   "metadata": {},
   "outputs": [],
   "source": [
    "df_heart_rate['heart_rate'] = df_heart_rate['heart_rate'].astype(float).astype(int)\n",
    "df_calories['calories'] = df_calories['calories'].astype(float)"
   ]
  },
  {
   "cell_type": "code",
   "execution_count": 21,
   "metadata": {},
   "outputs": [],
   "source": [
    "ids = pd.Series(range(1, len(df_workout) + 1))\n",
    "df_workout = pd.concat([ids.rename('id'), df_workout], axis=1)"
   ]
  },
  {
   "cell_type": "markdown",
   "metadata": {},
   "source": [
    "Associating each Heart Rate to an Exercise"
   ]
  },
  {
   "cell_type": "code",
   "execution_count": 22,
   "metadata": {},
   "outputs": [],
   "source": [
    "# def associated_workout(row, df_workout):\n",
    "#     # For each register, find correspondent exercise\n",
    "#     df_filter = df_workout[\n",
    "#         (df_workout['startDate'] <= row['startDate']) & \n",
    "#         (df_workout['endDate'] >= row['startDate'])\n",
    "#     ]\n",
    "#     return df_filter['id'].iloc[0] if not df_filter.empty else None"
   ]
  },
  {
   "cell_type": "code",
   "execution_count": 23,
   "metadata": {},
   "outputs": [],
   "source": [
    "df_heart_rate['id'] = df_heart_rate.apply(lambda row: associated_workout(row, df_workout), axis=1)\n",
    "df_calories['id']   = df_calories.apply(lambda row: associated_workout(row, df_workout), axis=1)"
   ]
  },
  {
   "cell_type": "code",
   "execution_count": 24,
   "metadata": {},
   "outputs": [],
   "source": [
    "df_heart_rate = df_heart_rate[~df_heart_rate['id'].isna()].reset_index(drop=True)\n",
    "df_calories   = df_calories[~df_calories['id'].isna()].reset_index(drop=True)"
   ]
  },
  {
   "cell_type": "markdown",
   "metadata": {},
   "source": [
    "Creating important columns:"
   ]
  },
  {
   "cell_type": "code",
   "execution_count": 25,
   "metadata": {},
   "outputs": [],
   "source": [
    "df_calories = df_calories.groupby(['id']).agg({'calories': 'sum'})"
   ]
  },
  {
   "cell_type": "code",
   "execution_count": 26,
   "metadata": {},
   "outputs": [],
   "source": [
    "df_full = pd.merge(df_workout, df_heart_rate[['id', 'heart_rate']], on='id', how='left')\n",
    "# df_full = pd.merge(df_full, df_calories, on='id', how='left')"
   ]
  },
  {
   "cell_type": "markdown",
   "metadata": {},
   "source": [
    "Adding date columns:"
   ]
  },
  {
   "cell_type": "code",
   "execution_count": 27,
   "metadata": {},
   "outputs": [],
   "source": [
    "months_dict = {1: 'JAN', 2: 'FEB', 3: 'MAR', 4: 'APR', 5: 'MAY', 6: 'JUN', \n",
    "            7: 'JUL', 8: 'AUG', 9: 'SEP', 10: 'OCT', 11: 'NOV', 12: 'DEC'}\n",
    "\n",
    "df_full['date'] = df_full['startDate'].apply(lambda value: value[:10])\n",
    "df_full['month'] = df_full['date'].apply(lambda value: int(value[5:7]))\n",
    "df_full['month_name'] = df_full['month'].map(months_dict)\n",
    "df_full['year']  = df_full['creationDate'].apply(lambda value: value[:4])\n",
    "\n",
    "df_metrics['month'] = df_metrics['dateComponents'].apply(lambda value: int(value[:7][-2:]))\n",
    "df_metrics['month_name'] = df_metrics['month'].map(months_dict)"
   ]
  },
  {
   "cell_type": "markdown",
   "metadata": {},
   "source": [
    "Defining Heart Rate info necessary:"
   ]
  },
  {
   "cell_type": "code",
   "execution_count": 28,
   "metadata": {},
   "outputs": [],
   "source": [
    "col_names_hr = ['id', 'workoutActivityType', 'duration', 'date','month', 'month_name' ]"
   ]
  },
  {
   "cell_type": "code",
   "execution_count": 41,
   "metadata": {},
   "outputs": [],
   "source": [
    "df_hr_mean = df_full.groupby(col_names_hr).agg({'heart_rate': 'mean'})\n",
    "df_hr_mean = df_hr_mean.reset_index()\n",
    "df_hr_mean = df_hr_mean.rename(columns={'heart_rate': 'heart_rate_mean'})\n",
    "\n",
    "# df_hr_mean_min = df_hr_mean['heart_rate_mean'].min()\n",
    "# df_hr_mean = df_hr_mean.fillna(df_hr_mean_min)\n",
    "\n",
    "df_hr_mean['heart_rate_mean'] = df_hr_mean['heart_rate_mean'].apply(lambda value: int(value) if not pd.isna(value) else value)"
   ]
  },
  {
   "cell_type": "code",
   "execution_count": 43,
   "metadata": {},
   "outputs": [],
   "source": [
    "serie_hr_max = df_full.groupby(col_names_hr).agg({'heart_rate': 'max'}).reset_index(drop=True)\n",
    "serie_hr_max.columns = ['heart_rate_max']\n",
    "\n",
    "df_v1 = pd.concat([df_hr_mean, serie_hr_max], axis=1)"
   ]
  },
  {
   "cell_type": "code",
   "execution_count": 44,
   "metadata": {},
   "outputs": [],
   "source": [
    "df_v2 = pd.merge(df_v1, df_calories, on='id', how='left')\n",
    "df_v2['calories'] = df_v2['calories'].fillna(0)\n",
    "df_v2['calories'] = df_v2['calories'].astype(int)"
   ]
  },
  {
   "cell_type": "markdown",
   "metadata": {},
   "source": [
    "Results:"
   ]
  },
  {
   "cell_type": "markdown",
   "metadata": {},
   "source": [
    "Top sports:"
   ]
  },
  {
   "cell_type": "code",
   "execution_count": 45,
   "metadata": {},
   "outputs": [],
   "source": [
    "sports_by_count    = df_v2['workoutActivityType'].value_counts()\n",
    "total_sports       = len(sports_by_count)\n",
    "top_sport_by_count = sports_by_count.idxmax()\n",
    "count_top_sport    = sports_by_count.max()\n",
    "\n",
    "top_sports_by_time = df_v2.groupby(by=['workoutActivityType']).agg({'duration': 'sum', 'calories': 'sum'}).sort_values(by='duration', ascending=False)\n",
    "\n",
    "top_sport_by_time       = top_sports_by_time.idxmax().iloc[0]\n",
    "time_top_sport          = top_sports_by_time.max().iloc[0]\n",
    "count_top_sport_by_time = sports_by_count[top_sport_by_time]\n",
    "\n",
    "top_5_sports_by_time    = top_sports_by_time.iloc[:5, :].reset_index()\n",
    "top_5_sports_by_time.columns = ['Sport', 'Total Minutes', 'Total Calories']"
   ]
  },
  {
   "cell_type": "markdown",
   "metadata": {},
   "source": [
    "Heart Rate:"
   ]
  },
  {
   "cell_type": "code",
   "execution_count": 46,
   "metadata": {},
   "outputs": [],
   "source": [
    "highest_heart_rate = df_v2.loc[df_v2['heart_rate_max'].idxmax(), :]\n",
    "heart_rate_per_sport = df_v2.groupby(['workoutActivityType']).agg({'heart_rate_mean': 'mean'})\n",
    "sport_highest_avg_heart_rate = heart_rate_per_sport.idxmax().iloc[0]\n",
    "highest_avg_heart_rate = int(heart_rate_per_sport.max().iloc[0])"
   ]
  },
  {
   "cell_type": "markdown",
   "metadata": {},
   "source": [
    "Calories:"
   ]
  },
  {
   "cell_type": "code",
   "execution_count": 47,
   "metadata": {},
   "outputs": [],
   "source": [
    "calories_per_sport = df_v2.groupby(['workoutActivityType']).agg({'calories': 'mean'})\n",
    "sport_highest_avg_calories = calories_per_sport.idxmax().iloc[0]\n",
    "highest_avg_calories = int(calories_per_sport.max().iloc[0])"
   ]
  },
  {
   "cell_type": "markdown",
   "metadata": {},
   "source": [
    "Total time exercising and goals:"
   ]
  },
  {
   "cell_type": "code",
   "execution_count": 48,
   "metadata": {},
   "outputs": [],
   "source": [
    "exercise_total_time = top_sports_by_time['duration'].sum()\n",
    "exercise_total_days = len(df_v2['date'].drop_duplicates())"
   ]
  },
  {
   "cell_type": "code",
   "execution_count": 49,
   "metadata": {},
   "outputs": [],
   "source": [
    "energy_goal_check = df_metrics[(df_metrics['activeEnergyBurned'] >= df_metrics['activeEnergyBurnedGoal']) & (df_metrics['activeEnergyBurnedGoal'] > 0)].reset_index(drop=True)\n",
    "days_energy_goal_check = energy_goal_check.shape[0]\n",
    "\n",
    "start_date = date(date.today().year, 1, 1)\n",
    "days_since_start_of_year = (today - start_date).days\n",
    "percent_goal_check_so_far = round(days_energy_goal_check/days_since_start_of_year*100, 2)"
   ]
  },
  {
   "cell_type": "markdown",
   "metadata": {},
   "source": [
    "Top day of exercises:"
   ]
  },
  {
   "cell_type": "code",
   "execution_count": null,
   "metadata": {},
   "outputs": [],
   "source": [
    "top_exercise_day_data = df_v2.groupby(['date']).agg({'duration': 'sum', 'calories': 'sum'})\n",
    "top_exercise_day = top_exercise_day_data.idxmax()['duration']\n",
    "top_exercise_day_calories = top_exercise_day_data.loc[top_exercise_day, 'calories']\n",
    "top_exercise_day_time = top_exercise_day_data.loc[top_exercise_day, 'duration']\n",
    "\n",
    "top_exercise_day_training = df_v2.loc[df_v2['date'].str.startswith(top_exercise_day)]\n",
    "top_exercise_day_training = top_exercise_day_training.rename(\n",
    "    columns={\n",
    "        'workoutActivityType': 'Sport',\n",
    "        'duration': 'Total Minutes',\n",
    "        'calories': 'Total Calories'\n",
    "    }\n",
    ")"
   ]
  },
  {
   "cell_type": "markdown",
   "metadata": {},
   "source": [
    "Most active day:"
   ]
  },
  {
   "cell_type": "code",
   "execution_count": 61,
   "metadata": {},
   "outputs": [],
   "source": [
    "top_active_day_data = df_metrics.loc[df_metrics['activeEnergyBurned'].idxmax(), ['dateComponents', 'activeEnergyBurned', 'appleExerciseTime']]\n",
    "top_active_day = top_active_day_data['dateComponents']\n",
    "top_active_day_calories = top_active_day_data['activeEnergyBurned']\n",
    "top_active_day_time = top_active_day_data['appleExerciseTime']\n",
    "\n",
    "top_active_day_training = df_v2.loc[df_v2['date'].str.startswith(top_active_day)]\n",
    "top_active_day_training = top_active_day_training.rename(\n",
    "    columns={\n",
    "        'workoutActivityType': 'Sport',\n",
    "        'duration': 'Total Minutes',\n",
    "        'calories': 'Total Calories'\n",
    "    }\n",
    ")\n",
    "\n",
    "top_active_day_training_none = None"
   ]
  },
  {
   "cell_type": "markdown",
   "metadata": {},
   "source": [
    "Showing all of the results:"
   ]
  },
  {
   "cell_type": "code",
   "execution_count": 52,
   "metadata": {},
   "outputs": [
    {
     "name": "stdout",
     "output_type": "stream",
     "text": [
      "Your top sport by number of registers is: Flexibility and you practiced it 143 times this year.\n",
      "But your top sport by time is: Pilates and you practiced it 72 times this year for 4128 minutes.\n",
      " \n",
      "Your top 5 sports are:\n",
      "                           Sport  Total Minutes  Total Calories\n",
      "0                        Pilates           4128           14014\n",
      "1  Traditional Strength Training           2308            9673\n",
      "2                    Flexibility           1070            3921\n",
      "3                        Walking            795            3724\n",
      "4                        Running            759            5313\n"
     ]
    }
   ],
   "source": [
    "if top_sport_by_count != top_sport_by_time:\n",
    "    print(f'Your top sport by number of registers is: {top_sport_by_count} and you practiced it {count_top_sport} times this year.')\n",
    "    print(f'But your top sport by time is: {top_sport_by_time} and you practiced it {count_top_sport_by_time} times this year for {(time_top_sport)} minutes.')\n",
    "else:\n",
    "    print(f'Your top sport is: {top_sport_by_time} and you practiced it {count_top_sport_by_time} times this year for {(time_top_sport)} minutes.')\n",
    "\n",
    "print(f' ')\n",
    "print(f'Your top 5 sports are:')\n",
    "print(f'{top_5_sports_by_time}')"
   ]
  },
  {
   "cell_type": "code",
   "execution_count": null,
   "metadata": {},
   "outputs": [
    {
     "name": "stdout",
     "output_type": "stream",
     "text": [
      "You exercised for 9978 minutes this year in 190 different days.\n",
      "And you tried out 10 different sports!\n",
      " \n",
      "The day you exercised the most was 2024-08-21: 262 minutes! You burned 0 calories!\n",
      "Exercises: \n",
      "    Sport  Total Minutes  Total Calories\n",
      "0  Hiking            262               0\n"
     ]
    }
   ],
   "source": [
    "print(f'You exercised for {exercise_total_time} minutes this year in {exercise_total_days} different days.')\n",
    "print(f'And you tried out {total_sports} different sports!')\n",
    "print(f' ')\n",
    "print(f'The day you exercised the most was {top_exercise_day}: {top_exercise_day_time} minutes! You burned {int(top_exercise_day_calories)} calories!')\n",
    "\n",
    "top_exercise_day_training = top_exercise_day_training.reset_index(drop=True)\n",
    "print(f\"Exercises: \")\n",
    "print(f\"{top_exercise_day_training[['Sport', 'Total Minutes', 'Total Calories']]}\")"
   ]
  },
  {
   "cell_type": "code",
   "execution_count": 66,
   "metadata": {},
   "outputs": [
    {
     "name": "stdout",
     "output_type": "stream",
     "text": [
      "Now, your most active day was... 2024-03-10! \n",
      "Your movement ring reached 856 calories and your exercise ring registered 132.0 minutes!\n",
      "However, there are no exercises registered for this day...\n"
     ]
    }
   ],
   "source": [
    "print(f'Now, your most active day was... {top_active_day}! ')\n",
    "print(f'Your movement ring reached {int(top_active_day_calories)} calories and your exercise ring registered {top_active_day_time} minutes!')\n",
    "\n",
    "if top_active_day_training.empty:\n",
    "    top_active_day_training_none = 'However, there are no exercises registered for this day...'\n",
    "    print(top_active_day_training_none)\n",
    "else:\n",
    "    top_active_day_training = top_active_day_training.reset_index(drop=True)\n",
    "    print(f\"Exercises: \")\n",
    "    print(f\"{top_active_day_training[['Sport', 'Total Minutes', 'Total Calories']]}\")"
   ]
  },
  {
   "cell_type": "code",
   "execution_count": 54,
   "metadata": {},
   "outputs": [
    {
     "name": "stdout",
     "output_type": "stream",
     "text": [
      "You reached your movement goal on 14 days this year!\n",
      "That represents 4.06% of the year so far!\n"
     ]
    }
   ],
   "source": [
    "print(f'You reached your movement goal on {days_energy_goal_check} days this year!')\n",
    "print(f'That represents {percent_goal_check_so_far}% of the year so far!')"
   ]
  },
  {
   "cell_type": "code",
   "execution_count": 55,
   "metadata": {},
   "outputs": [
    {
     "name": "stdout",
     "output_type": "stream",
     "text": [
      "The sport that makes your heart race is: Elliptical!\n",
      "The average heart rate you get when practicing it is 164 bpm.\n"
     ]
    }
   ],
   "source": [
    "print(f'The sport that makes your heart race is: {sport_highest_avg_heart_rate}!')\n",
    "print(f'The average heart rate you get when practicing it is {highest_avg_heart_rate} bpm.')"
   ]
  },
  {
   "cell_type": "code",
   "execution_count": 56,
   "metadata": {},
   "outputs": [
    {
     "name": "stdout",
     "output_type": "stream",
     "text": [
      "But the sport that really makes you burn is Running with an average of 231 calories per session!\n"
     ]
    }
   ],
   "source": [
    "print(f'But the sport that really makes you burn is {sport_highest_avg_calories} with an average of {highest_avg_calories} calories per session!')"
   ]
  },
  {
   "cell_type": "code",
   "execution_count": 57,
   "metadata": {},
   "outputs": [],
   "source": [
    "df_metrics_per_month = df_metrics.groupby(['month', 'month_name']).agg({'appleExerciseTime': 'sum'}).reset_index()\n",
    "df_metrics_per_month['hours'] = df_metrics_per_month['appleExerciseTime'].apply(lambda value: round(value/60, 1))"
   ]
  },
  {
   "cell_type": "code",
   "execution_count": 58,
   "metadata": {},
   "outputs": [
    {
     "data": {
      "image/png": "[encoded data removed]",
      "text/plain": [
       "<Figure size 1200x500 with 1 Axes>"
      ]
     },
     "metadata": {},
     "output_type": "display_data"
    }
   ],
   "source": [
    "fig, ax1 = plt.subplots(figsize=(12, 5))\n",
    "\n",
    "mean_value = df_metrics_per_month['hours'].mean()\n",
    "ax1.axhline(mean_value, color='orange', linestyle=':', linewidth=2, label='Average')\n",
    "ax1.annotate(\n",
    "    f'{mean_value:.2f} h',  # Texto a ser exibido, ajustado para duas casas decimais\n",
    "    xy=(0.93, mean_value*1.02),  # Coordenadas (x, y) para posicionar a anotação\n",
    "    xycoords=('axes fraction', 'data'),  # Define que x usa fração dos eixos e y os dados\n",
    "    fontsize=10,  # Tamanho da fonte\n",
    "    color='orange',  # Cor do texto\n",
    "    bbox=dict(boxstyle=\"round,pad=0.3\", edgecolor='none', facecolor='white', alpha=0.7)  # Fundo branco com leve transparência\n",
    ")\n",
    "\n",
    "lp_time_per_month = sns.lineplot(data=df_metrics_per_month, x='month_name', y='hours')\n",
    "ax1.set_xlabel('');\n",
    "ax1.yaxis.set_visible(False)\n",
    "\n",
    "y_min = df_metrics_per_month['hours'].min()\n",
    "y_max = df_metrics_per_month['hours'].max()\n",
    "ax1.set_ylim(y_min * 0.8, y_max * 1.08)\n",
    "\n",
    "for i, row in df_metrics_per_month.iterrows():\n",
    "    ax1.annotate(\n",
    "        text=f\"{str(row['hours']).replace('.', ',')} h\",  # Texto da anotação\n",
    "        xy=(row['month_name'], row['hours']),  # Coordenadas do ponto\n",
    "        xytext=(0, 5),  # Deslocamento em relação ao ponto (x, y)\n",
    "        textcoords='offset points',  # Usa o deslocamento definido acima\n",
    "        ha='center', fontsize=10, color='black', bbox=dict(facecolor='white', alpha=0.6, edgecolor='none')\n",
    "    )"
   ]
  },
  {
   "cell_type": "code",
   "execution_count": 59,
   "metadata": {},
   "outputs": [
    {
     "data": {
      "image/png": "[encoded data removed]",
      "text/plain": [
       "<Figure size 1800x500 with 1 Axes>"
      ]
     },
     "metadata": {},
     "output_type": "display_data"
    }
   ],
   "source": [
    "df_v2_gb = df_v2.groupby(['month', 'month_name', 'workoutActivityType']).agg({'duration': 'sum'}).reset_index()\n",
    "df_v2_sport_time = df_v2.groupby(['workoutActivityType']).agg({'duration': 'sum'}).reset_index()\n",
    "df_v2_sport_time = df_v2_sport_time.sort_values(by='duration', ascending=False)\n",
    "\n",
    "fig, ax1 = plt.subplots(figsize=(18, 5))\n",
    "lp_time_per_sport = sns.barplot(data=df_v2_sport_time, x='workoutActivityType', y='duration', hue='workoutActivityType');\n",
    "ax1.yaxis.set_visible(False)\n",
    "ax1.set_ylim()\n",
    "\n",
    "labels = [textwrap.fill(label, width=11) for label in df_v2_sport_time['workoutActivityType']]  # Limitando a 14 caracteres e quebrando a linha\n",
    "ax1.set_xticks(range(len(labels)))  # Definindo o número de ticks com base no número de rótulos\n",
    "ax1.set_xticklabels(labels, rotation=0, fontdict={'fontsize': 10});  \n",
    "ax1.set_xlabel('');\n",
    "\n",
    "y_max = df_v2_sport_time['duration'].max()\n",
    "ax1.set_ylim(0, y_max * 1.08)\n",
    "\n",
    "for container in lp_time_per_sport.containers:\n",
    "    labels = [f'{v.get_height():,.0f} min'.replace(',', '.') if v.get_height() != 0 else '' for v in container]\n",
    "    lp_time_per_sport.bar_label(container, labels=labels, padding=3, fontsize=10, bbox=dict(boxstyle=\"round,pad=0.2\", facecolor='white', alpha=0, edgecolor='none'))"
   ]
  }
 ],
 "metadata": {
  "kernelspec": {
   "display_name": "env",
   "language": "python",
   "name": "python3"
  },
  "language_info": {
   "codemirror_mode": {
    "name": "ipython",
    "version": 3
   },
   "file_extension": ".py",
   "mimetype": "text/x-python",
   "name": "python",
   "nbconvert_exporter": "python",
   "pygments_lexer": "ipython3",
   "version": "3.12.1"
  }
 },
 "nbformat": 4,
 "nbformat_minor": 2
}
